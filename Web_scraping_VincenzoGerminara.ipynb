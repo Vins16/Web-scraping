{
  "nbformat": 4,
  "nbformat_minor": 0,
  "metadata": {
    "colab": {
      "name": "Untitled4(1).ipynb",
      "provenance": [],
      "collapsed_sections": [],
      "toc_visible": true
    },
    "kernelspec": {
      "name": "python3",
      "display_name": "Python 3"
    },
    "language_info": {
      "name": "python"
    }
  },
  "cells": [
    {
      "cell_type": "markdown",
      "metadata": {
        "id": "Q2wL0l4al3nN"
      },
      "source": [
        "Write a Python application for monitoring the status of all the auctions on Ebay.com about a given type of item.\n",
        "\n",
        "Let X be the name of the item of interest (i.e., a 'Nokia 3310' smartphone):\n",
        "\n",
        "At its first run, the program should scrape from ebay using BeautifulSoup4 the information about all the auctions related to X including:\n",
        "\n",
        "   - title\n",
        "   - number of bids\n",
        "   - highest bid\n",
        "   - description (to be extracted from the extended description available on the page related to that particular auction. Only the first 200 characters will be enough)\n",
        "   - id\n",
        "   - seller\n",
        "   - seller's score\n",
        "   - scraping date"
      ]
    },
    {
      "cell_type": "code",
      "metadata": {
        "id": "ze4j3eOil1A1"
      },
      "source": [
        "#importing  all packages that I'll use in this project\n",
        "import requests\n",
        "import bs4\n",
        "import re\n",
        "import datetime\n",
        "import time\n",
        "import pandas as pd"
      ],
      "execution_count": 1,
      "outputs": []
    },
    {
      "cell_type": "markdown",
      "metadata": {
        "id": "GBQuHe4Ym_fZ"
      },
      "source": [
        "###First of all I wrote an application for scraping the describtion of each auction, because it's contained in another html page."
      ]
    },
    {
      "cell_type": "code",
      "metadata": {
        "id": "4TUIDfM0yZ4a"
      },
      "source": [
        "def scrape_info(url):\n",
        "  p = requests.get(url)\n",
        "  page = bs4.BeautifulSoup(p.content,'lxml')\n",
        "  description = page.find(id=\"ds_div\")\n",
        "  if description:\n",
        "    description = re.sub(r'\\n\\s*\\n', '.',page.find(id=\"ds_div\").text.strip())[0:199]\n",
        "  return description"
      ],
      "execution_count": 2,
      "outputs": []
    },
    {
      "cell_type": "markdown",
      "metadata": {
        "id": "lhZa-CyGyM2M"
      },
      "source": [
        "###The application for scraping all information we need for a single auction:"
      ]
    },
    {
      "cell_type": "code",
      "metadata": {
        "id": "b7JTcx_Pm93e"
      },
      "source": [
        "def scrape_advertisement(url):\n",
        "  p = requests.get(url)\n",
        "  page = bs4.BeautifulSoup(p.content,'lxml')\n",
        "\n",
        "  title= page.h1.contents[1]\n",
        "  number_bids = int(page.find(class_=\"u-dspblk\").find('a').find(id=\"qty-test\").text)\n",
        "\n",
        "  #all prices in euro\n",
        "  convPrice=page.find(id=\"convbidPrice\")\n",
        "  if convPrice is not None:\n",
        "    highest_bid = float(convPrice.text.split()[1].split('(')[0].replace('.','').replace(',','.'))\n",
        "  else:\n",
        "    highest_bid = float(page.find(id=\"prcIsum_bidPrice\").text.split()[1].replace('.','').replace(',','.'))\n",
        "  \n",
        "  if page.find(id=\"desc_ifr\"):\n",
        "    description = scrape_info(page.find(id=\"desc_ifr\")['src'])\n",
        "\n",
        "  id=page.find(id=\"descItemNumber\").text\n",
        "  \n",
        "  seller = page.find(class_=\"mbg-nw\").text\n",
        "  \n",
        "  seller_feed = page.find(id='si-fb')\n",
        "  if seller_feed:\n",
        "    seller_feed = float(seller_feed.text.split('%')[0].replace(',','.'))\n",
        "\n",
        "\n",
        "  when = datetime.date.today()\n",
        "\n",
        "  return (title, number_bids, highest_bid, description, id, seller, seller_feed, when)"
      ],
      "execution_count": 3,
      "outputs": []
    },
    {
      "cell_type": "markdown",
      "metadata": {
        "id": "CiecUsjXx5LI"
      },
      "source": [
        "###This function will be used only for run> 1 and is used to verify the changes with respect to the previous run.\n",
        "\n"
      ]
    },
    {
      "cell_type": "code",
      "metadata": {
        "id": "aXVcomtvx52i"
      },
      "source": [
        "def report(output1,output2):\n",
        "  #looking for Auctions deleted\n",
        "  products_id_2= output2['id']\n",
        "  output1['update']= False\n",
        "  for id in products_id_2:\n",
        "    output1.loc[output1['id']==id, 'update']=True\n",
        "  deleted = output1[output1['update']==False][['id','title']]\n",
        "  print('Auctions deleted:')\n",
        "  print(deleted)\n",
        "  print('\\n')\n",
        "  \n",
        "  #looking for New auctions\n",
        "  products_id= output1['id']\n",
        "  output2['new']= True\n",
        "  for id in products_id:\n",
        "    output2.loc[output2['id']==id, 'new']=False\n",
        "  new = output2[output2['new']==True][['id','title']]\n",
        "  print('New auctions:')\n",
        "  print(new)\n",
        "  print('\\n')\n",
        "\n",
        "  #looking for Auctions with new bid\n",
        "  old_id= output2[output2['new']==False]['id']\n",
        "  new_bid= output2['new_bid'] = False\n",
        "  \n",
        "  print(\"Auctions with new bid: \")\n",
        "  for id in old_id:\n",
        "     n_bid1= output1.loc[output1['id']==id,'number_bids'].values\n",
        "     n_bid2= output2.loc[output2['id']==id,'number_bids'].values\n",
        "     if n_bid1 < n_bid2:\n",
        "       title=output1[output1['id']==id]['title'].values\n",
        "       old_hbid=output1[output1['id']==id]['highest_bid'].values\n",
        "       new_hbid = output2[output2['id']==id]['highest_bid'].values\n",
        "       print(id,title, old_hbid, new_hbid)\n"
      ],
      "execution_count": 4,
      "outputs": []
    },
    {
      "cell_type": "markdown",
      "metadata": {
        "id": "NX_PTHmPRB7a"
      },
      "source": [
        "Scrape_from_ebay is a function that want in input a *keyword*, that is the product that you want to scrap from Ebay, the *maximum number of results* thay you'd like to have, and *run*, where you have to indicate if it is the firts run or not ( for default run=1).\n",
        "If it is the first run (run = 1),  Scrape_from_ebay will get in output:\n",
        " - title\n",
        " - number of bids\n",
        " - highest bid (in EUR)\n",
        " - description (to be extracted from the extended     description available on the page related to that particular auction. Only the first 200 characters will be enough)\n",
        " - id\n",
        " - seller\n",
        " -  seller's score\n",
        " - scraping date\n",
        "\n",
        "Starting from the second run, the program repeat the same scraping activity as the firt run and, then, report on screen:\n",
        "- the id and the title of all the auctions that have been deleted, with respect to the previous run\n",
        "- the id and the title of all the auctions that have been added, with respect to the previous run\n",
        "- the id, the title, the old maximum bid and the new maximum bid of all the auctions where at least a new bid has been placed, with respect to the previous run"
      ]
    },
    {
      "cell_type": "code",
      "metadata": {
        "id": "dw05fsLAneVV"
      },
      "source": [
        "def scrape_from_ebay(keyword, maximum_number_results = 100, run=1):\n",
        "  \n",
        "  n_page=1\n",
        "  actual_number_results = 0\n",
        "  output = []\n",
        "  while n_page>0:\n",
        "    '''\n",
        "    When the number of page is grater than the number of the last page, in ebay you will get the\n",
        "    last page, for this reason we need to have the number of all items(max_results) present for \n",
        "    the product we're scraping, for stopping the application.\n",
        "    '''\n",
        "    url = 'https://www.ebay.it/sch/i.html?_nkw='+keyword+'&_sacat=0&rt=nc&LH_Auction=1&_pgn='+str(n_page)\n",
        " \n",
        "    \n",
        "    n_page += 1\n",
        "    p = requests.get(url)\n",
        "    page = bs4.BeautifulSoup(p.content)\n",
        "    max_results=int(page.find(class_=\"srp-controls__control srp-controls__count\").text.split(' ')[0])\n",
        "    \n",
        "     \n",
        "    for ad in page.find_all(class_=\"s-item__link\"):\n",
        "       print('Scraping data from: {}'.format(ad['href']))\n",
        "       output.append(scrape_advertisement(ad['href']))\n",
        "      \n",
        "       actual_number_results += 1\n",
        "       if actual_number_results == max_results:\n",
        "         output1 = pd.DataFrame(output, columns=['title', 'number_bids', 'highest_bid', 'description', 'id', 'seller', 'seller_feed', 'when'])\n",
        "         if run==1:\n",
        "           output1.to_excel('X.scrape.xlsx')\n",
        "           type(output1)\n",
        "           print('All items are scraped!')\n",
        "           return output1\n",
        "         else:#if it's not the first run\n",
        "           #upload the previous dataframe\n",
        "           prev_output= pd.read_excel('X.scrape.xlsx')\n",
        "           #save and upload the new dataframe\n",
        "           output1.to_excel('X.scrape.xlsx')\n",
        "           output=pd.read_excel('X.scrape.xlsx')\n",
        "           print('All items are scraped!')\n",
        "           return report(prev_output,output)\n",
        "                            \n",
        "       if actual_number_results == maximum_number_results:\n",
        "         output1 = pd.DataFrame(output, columns=['title', 'number_bids', 'highest_bid', 'description', 'id', 'seller', 'seller_feed', 'when'])\n",
        "         if run==1:\n",
        "           output1.to_excel('X.scrape.xlsx')\n",
        "           print('{} items are scraped!'.format(maximum_number_results))\n",
        "           \n",
        "         else:\n",
        "           prev_output= pd.read_excel('X.scrape.xlsx')\n",
        "           output1.to_excel('X.scrape.xlsx')\n",
        "           output=pd.read_excel('X.scrape.xlsx')\n",
        "           return report(prev_output,output)\n",
        "         \n",
        "      #every 20 items the application take a break of 20 seconds\n",
        "       if actual_number_results in range(20,maximum_number_results,20):\n",
        "         print('Break!')\n",
        "         time.sleep(20)\n",
        "  \n",
        "\n"
      ],
      "execution_count": 8,
      "outputs": []
    },
    {
      "cell_type": "code",
      "metadata": {
        "id": "vO6ehIRLo6aI"
      },
      "source": [
        "scrape_from_ebay('iphone10', 100,1)"
      ],
      "execution_count": null,
      "outputs": []
    },
    {
      "cell_type": "code",
      "metadata": {
        "colab": {
          "base_uri": "https://localhost:8080/"
        },
        "id": "rsARpbG8W75O",
        "outputId": "cfd68fd4-f78b-427e-b099-be596941fb02"
      },
      "source": [
        "scrape_from_ebay('iphone10', 100,2)"
      ],
      "execution_count": 9,
      "outputs": [
        {
          "output_type": "stream",
          "text": [
            "Scraping data from: https://www.ebay.it/itm/284270249537?hash=item422fd3c641%3Ag%3A434AAOSwRt9gcHkD&LH_Auction=1\n",
            "Scraping data from: https://www.ebay.it/itm/284273136598?hash=item422fffd3d6%3Ag%3AT%7E4AAOSwx2dggsZH&LH_Auction=1\n",
            "Scraping data from: https://www.ebay.it/itm/164825636868?hash=item26605fa004%3Ag%3AMKgAAOSwPkZgbMbM&LH_Auction=1\n",
            "Scraping data from: https://www.ebay.it/itm/324593822153?hash=item4b934ca9c9%3Ag%3AHmQAAOSwF3VghGVt&LH_Auction=1\n",
            "Scraping data from: https://www.ebay.it/itm/203386402339?hash=item2f5ac63623%3Ag%3AOZcAAOSwkctghSom&LH_Auction=1\n",
            "Scraping data from: https://www.ebay.it/itm/144022165123?hash=item218863d683%3Ag%3AqcYAAOSwHh5ggVLm&LH_Auction=1\n",
            "Scraping data from: https://www.ebay.it/itm/324583531754?hash=item4b92afa4ea%3Ag%3AQOYAAOSwB1VggBtG&LH_Auction=1\n",
            "Scraping data from: https://www.ebay.it/itm/184793878370?hash=item2b0692cf62%3Ag%3AoGIAAOSws5hgZi3y&LH_Auction=1\n",
            "Scraping data from: https://www.ebay.it/itm/164832668333?hash=item2660caeaad%3Ag%3AMG8AAOSwH5Jghckq&LH_Auction=1\n",
            "Scraping data from: https://www.ebay.it/itm/274774213812?hash=item3ff9d1c4b4%3Ag%3AcRcAAOSwarFgLmjs&LH_Auction=1\n",
            "Scraping data from: https://www.ebay.it/itm/114783975466?hash=item1ab9a8782a%3Ag%3ACpoAAOSw1JhgIDXE&LH_Auction=1\n",
            "Scraping data from: https://www.ebay.it/itm/294139482333?hash=item447c1450dd%3Ag%3AtmQAAOSwGAJggyMR&LH_Auction=1\n",
            "Scraping data from: https://www.ebay.it/itm/194060286624?hash=item2d2ee4faa0%3Ag%3AjqsAAOSwNSlgbe72&LH_Auction=1\n",
            "Scraping data from: https://www.ebay.it/itm/303973786469?hash=item46c63fe365%3Ag%3AbuwAAOSwSthgeC-k&LH_Auction=1\n",
            "Scraping data from: https://www.ebay.it/itm/184792620370?hash=item2b067f9d52%3Ag%3A1zIAAOSwcapghdUw&LH_Auction=1\n",
            "Scraping data from: https://www.ebay.it/itm/393263354986?hash=item5b9052946a%3Ag%3ATtQAAOSwV3RfrQYi&LH_Auction=1\n",
            "Scraping data from: https://www.ebay.it/itm/324587214734?hash=item4b92e7d78e%3Ag%3ATfAAAOSwYcJgSgO0&LH_Auction=1\n",
            "Scraping data from: https://www.ebay.it/itm/254958218813?hash=item3b5cb1ae3d%3Ag%3AjaAAAOSwMxRgfHid&LH_Auction=1\n",
            "Scraping data from: https://www.ebay.it/itm/333974523903?hash=item4dc26ecfff%3Ag%3AQSsAAOSwL0pgNEID&LH_Auction=1\n",
            "Scraping data from: https://www.ebay.it/itm/265137510740?hash=item3dbb6d5954%3Ag%3APM4AAOSw66RfQn4c&LH_Auction=1\n",
            "Break!\n",
            "Scraping data from: https://www.ebay.it/itm/363367868412?hash=item549a69a7fc%3Ag%3AGR4AAOSwH5Zgf-Pe&LH_Auction=1\n",
            "Scraping data from: https://www.ebay.it/itm/363367919119?hash=item549a6a6e0f%3Ag%3A5iwAAOSwy3Rgf%7EPz&LH_Auction=1\n",
            "Scraping data from: https://www.ebay.it/itm/384107957966?hash=item596e9e4ece%3Ag%3AHE0AAOSwQfdgf%7Ey2&LH_Auction=1\n",
            "Scraping data from: https://www.ebay.it/itm/363367957147?hash=item549a6b029b%3Ag%3AducAAOSwooJgf%7Ets&LH_Auction=1\n",
            "Scraping data from: https://www.ebay.it/itm/363369401280?hash=item549a810bc0%3Ag%3AQr4AAOSwNitggWay&LH_Auction=1\n",
            "Scraping data from: https://www.ebay.it/itm/384107881532?hash=item596e9d243c%3Ag%3AIG0AAOSwvAhgf-5G&LH_Auction=1\n",
            "Scraping data from: https://www.ebay.it/itm/384091432734?hash=item596da2271e%3Ag%3AIp8AAOSw8RRgYcAK&LH_Auction=1\n",
            "Scraping data from: https://www.ebay.it/itm/254958263528?hash=item3b5cb25ce8%3Ag%3AxRUAAOSwBDRgiCt0&LH_Auction=1\n",
            "Scraping data from: https://www.ebay.it/itm/384107965202?hash=item596e9e6b12%3Ag%3AicQAAOSwU1pgf%7E6I&LH_Auction=1\n",
            "Scraping data from: https://www.ebay.it/itm/174740964927?hash=item28af5f863f%3Ag%3Ax-wAAOSwaXRgfYWi&LH_Auction=1\n",
            "Scraping data from: https://www.ebay.it/itm/384091453163?hash=item596da276eb%3Ag%3A%7Ek4AAOSwc4xgSOQ3&LH_Auction=1\n",
            "Scraping data from: https://www.ebay.it/itm/363358215343?hash=item5499d65caf%3Ag%3AQyIAAOSwSpVgUd0S&LH_Auction=1\n",
            "Scraping data from: https://www.ebay.it/itm/353464620863?hash=item524c22173f%3Ag%3A4OUAAOSw6cRgfwx2&LH_Auction=1\n",
            "Scraping data from: https://www.ebay.it/itm/294142261070?hash=item447c3eb74e%3Ag%3Am8oAAOSwfCNgfIzt&LH_Auction=1\n",
            "Scraping data from: https://www.ebay.it/itm/363357015983?hash=item5499c40faf%3Ag%3A%7EUsAAOSwVrtgSjXu&LH_Auction=1\n",
            "Scraping data from: https://www.ebay.it/itm/265137445649?hash=item3dbb6c5b11%3Ag%3AM4oAAOSwKnVghbJF&LH_Auction=1\n",
            "Scraping data from: https://www.ebay.it/itm/233980769207?hash=item367a5733b7%3Ag%3AjTAAAOSwKXNgg%7E4Q&LH_Auction=1\n",
            "Scraping data from: https://www.ebay.it/itm/184796855348?hash=item2b06c03c34%3Ag%3Avh4AAOSwsstgiHBp&LH_Auction=1\n",
            "Scraping data from: https://www.ebay.it/itm/203352474259?hash=item2f58c08293%3Ag%3Afb4AAOSwKUFgfDFV&LH_Auction=1\n",
            "Scraping data from: https://www.ebay.it/itm/274765668364?hash=item3ff94f600c%3Ag%3ArWMAAOSwsYNgfcBa&LH_Auction=1\n",
            "Break!\n",
            "Scraping data from: https://www.ebay.it/itm/184778711622?hash=item2b05ab6246%3Ag%3A7VQAAOSw8HpgTggL&LH_Auction=1\n",
            "Scraping data from: https://www.ebay.it/itm/184796020600?hash=item2b06b37f78%3Ag%3AKRsAAOSw%7E4tgiAUM&LH_Auction=1\n",
            "Scraping data from: https://www.ebay.it/itm/384107936313?hash=item596e9dfa39%3Ag%3AA%7EAAAOSwGQhgf%7EfK&LH_Auction=1\n",
            "Scraping data from: https://www.ebay.it/itm/384107906423?hash=item596e9d8577%3Ag%3AaJ0AAOSwxAtgf%7EMF&LH_Auction=1\n",
            "Scraping data from: https://www.ebay.it/itm/384108328434?hash=item596ea3f5f2%3Ag%3AqsEAAOSwoApggC-1&LH_Auction=1\n",
            "Scraping data from: https://www.ebay.it/itm/384107946638?hash=item596e9e228e%3Ag%3AU2kAAOSwHI9gf%7Eju&LH_Auction=1\n",
            "Scraping data from: https://www.ebay.it/itm/384093491638?hash=item596dc191b6%3Ag%3AeDUAAOSwYjdgUh8X&LH_Auction=1\n",
            "Scraping data from: https://www.ebay.it/itm/384107932720?hash=item596e9dec30%3Ag%3A-noAAOSwvTdgf%7EbM&LH_Auction=1\n",
            "Scraping data from: https://www.ebay.it/itm/384091414848?hash=item596da1e140%3Ag%3AbXwAAOSw2-ZgSOMt&LH_Auction=1\n",
            "Scraping data from: https://www.ebay.it/itm/363373859042?hash=item549ac510e2%3Ag%3A57wAAOSwb7NghosB&LH_Auction=1\n",
            "Scraping data from: https://www.ebay.it/itm/384117213244?hash=item596f2b883c%3Ag%3A7bcAAOSwsthgho12&LH_Auction=1\n",
            "Scraping data from: https://www.ebay.it/itm/363367910651?hash=item549a6a4cfb%3Ag%3AWQ0AAOSwG0xgf%7ECE&LH_Auction=1\n",
            "Scraping data from: https://www.ebay.it/itm/363367952376?hash=item549a6aeff8%3Ag%3APkEAAOSwv59gf%7Eqv&LH_Auction=1\n",
            "Scraping data from: https://www.ebay.it/itm/363369398053?hash=item549a80ff25%3Ag%3AXEcAAOSwzntggWWu&LH_Auction=1\n",
            "Scraping data from: https://www.ebay.it/itm/363356994526?hash=item5499c3bbde%3Ag%3Aj0kAAOSw6itgW1Vm&LH_Auction=1\n",
            "All items are scraped!\n",
            "Auctions deleted:\n",
            "              id                                              title\n",
            "0   144016973757                       Sbloccato difettoso IPhone X\n",
            "8   254940425245  Sbloccato Apple iPhone Space Grey 64GB X-OTTIM...\n",
            "18  363365415577  Difettoso APPLE IPHONE X-Grigio spazio - 256GB...\n",
            "19  363365408181  Difettoso APPLE IPHONE X-Grigio spazio - 64GB-...\n",
            "33  114783670293  Apple iPhone X - 256GB-Grigio Spazio (O2) A190...\n",
            "41  384104426358  Difettoso APPLE IPHONE X-Grigio spazio - 64GB-...\n",
            "\n",
            "\n",
            "New auctions:\n",
            "              id                                              title\n",
            "3   324593822153                        IPhone 64gb Grigio Spazio X\n",
            "5   144022165123                       Sbloccato difettoso IPhone X\n",
            "10  114783975466  Apple iPhone X - 64GB-SPACE grigio (sbloccato)...\n",
            "27  254958263528  Sbloccato Apple iPhone Space Grey 64GB X-OTTIM...\n",
            "28  384107965202  Difettoso APPLE IPHONE X-Grigio spazio - 256GB...\n",
            "37  184796855348     Apple iPhone X - 64GB-argento (O2) A1901 (GSM)\n",
            "49  363373859042  Difettoso APPLE IPHONE X-Grigio spazio - 64GB-...\n",
            "50  384117213244  Difettoso APPLE IPHONE X-Grigio spazio - 256GB...\n",
            "\n",
            "\n",
            "Auctions with new bid: \n",
            "284273136598 ['Apple iPhone 8 | 64GB | Spazio Grigio Sbloccato | | A1897 | Nuovo di zecca | ref 10'] [62.09] [81.78]\n",
            "324583531754 ['Apple Iphone 64gb Sbloccato Bianco X USATO'] [229.96] [236.11]\n",
            "164832668333 ['Apple iPhone X - 256GB-SPACE grigio (sbloccato) * ottime A1901 (GSM)'] [241.46] [247.63]\n",
            "363367868412 ['Difettoso APPLE IPHONE-ARGENTO-X 64GB-sbloccato-leggi qui sotto per colpa'] [58.64] [88.69]\n",
            "363367919119 ['Difettoso APPLE IPHONE X-Grigio spazio - 64GB-sbloccato-leggi qui sotto per colpa'] [6.32] [64.5]\n",
            "384107957966 ['Difettoso APPLE IPHONE-ARGENTO-X 256GB-sbloccato-leggi qui sotto per colpa'] [34.49] [44.23]\n",
            "384107881532 ['Difettoso APPLE IPHONE X-Grigio spazio - 64GB-VODAFONE UK-LEGGI qui sotto per colpa'] [48.29] [50.68]\n",
            "384091432734 ['Difettoso Apple iPhone A1901 256GB Argento X sbloccato, leggi qui sotto per gli errori'] [47.14] [58.74]\n",
            "174740964927 ['Apple iPhone X - 64GB-SPACE grigio (sbloccato) A1901 (GSM)'] [206.96] [236.11]\n",
            "384091453163 ['Difettoso Apple iPhone A1901 64GB Argento X sbloccato, leggi qui sotto per gli errori'] [37.94] [115.18]\n",
            "363358215343 ['Difettoso APPLE IPHONE A1901 ARGENTO-X 64GB-sbloccato-leggi qui sotto per colpa'] [1.38] [2.02]\n",
            "294142261070 ['Lavoro Lotto Telefoni Cellulari ricambi riparazioni difettoso GIOCO Apple iPhone 5 X'] [47.14] [56.44]\n",
            "363357015983 ['Difettoso Apple iPhone A1901 256GB Argento X sbloccato, leggi qui sotto per gli errori'] [2.53] [3.69]\n",
            "384107946638 ['Difettoso APPLE IPHONE X-Grigio spazio - 64GB-sbloccato-leggi qui sotto per colpa'] [3.41] [24.19]\n",
            "384091414848 ['Difettoso Apple iPhone A1901 SPAZIO 64GB X Grigio Sbloccato, leggi qui sotto per gli errori'] [1.38] [2.53]\n",
            "363367952376 ['Difettoso APPLE IPHONE X-Grigio spazio - 64GB-sbloccato-leggi qui sotto per colpa'] [3.68] [4.61]\n",
            "363369398053 ['Difettoso APPLE IPHONE X-Grigio spazio - 64GB-sbloccato-leggi qui sotto per colpa'] [2.53] [4.84]\n",
            "363356994526 ['Difettoso Apple iPhone A1901 SPAZIO 64GB X Grigio Sbloccato, leggi qui sotto per gli errori'] [2.53] [6.33]\n"
          ],
          "name": "stdout"
        }
      ]
    }
  ]
}